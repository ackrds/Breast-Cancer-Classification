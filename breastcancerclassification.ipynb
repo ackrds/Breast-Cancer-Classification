{
 "cells": [
  {
   "cell_type": "code",
   "execution_count": 19,
   "metadata": {
    "_cell_guid": "b1076dfc-b9ad-4769-8c92-a6c4dae69d19",
    "_uuid": "8f2839f25d086af736a60e9eeb907d3b93b6e0e5",
    "execution": {
     "iopub.execute_input": "2023-02-24T00:45:21.317966Z",
     "iopub.status.busy": "2023-02-24T00:45:21.317548Z",
     "iopub.status.idle": "2023-02-24T00:45:21.326011Z",
     "shell.execute_reply": "2023-02-24T00:45:21.324854Z",
     "shell.execute_reply.started": "2023-02-24T00:45:21.317934Z"
    }
   },
   "outputs": [],
   "source": [
    "# If you run across any errors during image processing, uncomment and run this part.\n",
    "\n",
    "# !conda install -c conda-forge pillow -y\n",
    "# !conda install -c conda-forge pydicom -y\n",
    "# !conda install -c conda-forge gdcm -y\n",
    "# !pip install pylibjpeg pylibjpeg-libjpeg\n",
    "# !pip install pylibjpeg pylibjpeg-openjpeg\n",
    "\n",
    "\n",
    "\n",
    "\n",
    "import numpy as np \n",
    "import torchvision\n",
    "import pandas as pd \n",
    "import torch\n",
    "from torch.utils import data\n",
    "import pydicom \n",
    "from torch import nn\n",
    "import pylibjpeg\n",
    "from torchvision import transforms\n",
    "import torch.nn.functional as F\n",
    "from PIL import Image\n",
    "import matplotlib.pyplot as plt\n",
    "import seaborn as sns\n",
    "import cv2\n",
    "from torchmetrics.classification import BinaryAccuracy\n",
    "\n",
    "device = torch.device('cuda:0' if torch.cuda.is_available() else 'cpu')\n",
    "\n",
    "import os\n",
    "\n",
    "# Data available at https://www.kaggle.com/competitions/rsna-breast-cancer-detection/data"
   ]
  },
  {
   "cell_type": "code",
   "execution_count": 20,
   "metadata": {
    "execution": {
     "iopub.execute_input": "2023-02-24T00:45:21.336596Z",
     "iopub.status.busy": "2023-02-24T00:45:21.336309Z",
     "iopub.status.idle": "2023-02-24T00:45:21.766456Z",
     "shell.execute_reply": "2023-02-24T00:45:21.765421Z",
     "shell.execute_reply.started": "2023-02-24T00:45:21.336570Z"
    }
   },
   "outputs": [],
   "source": [
    "train_csv = pd.read_csv('/kaggle/input/rsna-breast-cancer-detection/train.csv')\n",
    "\n",
    "patient_ids = train_csv['patient_id']\n",
    "\n",
    "train_csv.index = train_csv['patient_id']\n",
    "\n",
    "train_img_dir = '/kaggle/input/rsna-breast-cancer-detection/train_images/'\n",
    "\n",
    "train_csv = train_csv.drop(columns={'BIRADS','density'})\n",
    "\n",
    "train_ids = patient_ids[:9000]\n",
    "val_ids = patient_ids[9000:]\n",
    "\n",
    "train_data = train_csv.loc[train_ids]\n",
    "val_data = train_csv.loc[val_ids]\n",
    "\n",
    "\n",
    "train_patient_ids = list(train_data.patient_id.apply(lambda x: str(x)+'/'))\n",
    "train_img_ids = list(train_data.image_id.apply(lambda x: str(x)))\n",
    "train_ids = []\n",
    "\n",
    "for patient_id, img_id in zip(train_patient_ids, train_img_ids):\n",
    "    train_ids.append(patient_id+img_id)\n",
    "train_data['images'] = train_ids\n",
    "\n",
    "val_patient_ids = list(val_data.patient_id.apply(lambda x: str(x)+'/'))\n",
    "val_img_ids = list(val_data.image_id.apply(lambda x: str(x)))\n",
    "val_ids = []\n",
    "\n",
    "for patient_id, img_id in zip(val_patient_ids, val_img_ids):\n",
    "    val_ids.append(patient_id+img_id)\n",
    "    \n",
    "val_data['images'] = val_ids\n",
    "    "
   ]
  },
  {
   "cell_type": "code",
   "execution_count": 21,
   "metadata": {
    "execution": {
     "iopub.execute_input": "2023-02-24T00:45:21.770471Z",
     "iopub.status.busy": "2023-02-24T00:45:21.768910Z",
     "iopub.status.idle": "2023-02-24T00:45:21.781458Z",
     "shell.execute_reply": "2023-02-24T00:45:21.780240Z",
     "shell.execute_reply.started": "2023-02-24T00:45:21.770430Z"
    }
   },
   "outputs": [],
   "source": [
    "train_transform = transforms.Compose([\n",
    "                        transforms.RandomVerticalFlip(),\n",
    "                        transforms.Resize((128, 128)),\n",
    "                        transforms.ToTensor(),\n",
    "                    \n",
    "                ])\n",
    "\n",
    "class Dataset(data.Dataset):\n",
    "    def __init__(self, indices, direc, transform=None):\n",
    "#         self.train_csv = train_csv\n",
    "        self.list_IDs = indices\n",
    "        self.direc = direc\n",
    "        self.transform = transform\n",
    "        \n",
    "    def __len__(self):\n",
    "        return len(self.list_IDs)\n",
    "\n",
    "    def __getitem__(self, index):\n",
    "        \n",
    "        ID = self.list_IDs[index]\n",
    "        x = pydicom.dcmread(self.direc + ID + \".dcm\")\n",
    "        x = x.pixel_array\n",
    "        x = x.astype(np.float64)\n",
    "        mean = np.mean(x)\n",
    "        std  = np.std(x)\n",
    "        x -= mean\n",
    "        x /= std\n",
    "        x = Image.fromarray(x)\n",
    "        if self.transform != None :\n",
    "            x = self.transform(x)\n",
    "        patient_id = int(ID.split('/')[0])\n",
    "        y = train_csv[train_csv['patient_id']==patient_id]['cancer'].unique()[0]\n",
    "        return x, y"
   ]
  },
  {
   "cell_type": "code",
   "execution_count": 22,
   "metadata": {
    "execution": {
     "iopub.execute_input": "2023-02-24T00:45:21.785399Z",
     "iopub.status.busy": "2023-02-24T00:45:21.784807Z",
     "iopub.status.idle": "2023-02-24T00:45:21.798056Z",
     "shell.execute_reply": "2023-02-24T00:45:21.796858Z",
     "shell.execute_reply.started": "2023-02-24T00:45:21.785371Z"
    }
   },
   "outputs": [],
   "source": [
    "train_set = Dataset(train_ids, train_img_dir, train_transform)\n",
    "train_loader = data.DataLoader(train_set, batch_size = 2, shuffle = True)\n",
    "\n",
    "val_set = Dataset(val_ids, train_img_dir, train_transform)\n",
    "val_loader = data.DataLoader(val_set, batch_size = 2, shuffle = True)"
   ]
  },
  {
   "cell_type": "code",
   "execution_count": 23,
   "metadata": {
    "execution": {
     "iopub.execute_input": "2023-02-24T00:45:21.801746Z",
     "iopub.status.busy": "2023-02-24T00:45:21.801321Z",
     "iopub.status.idle": "2023-02-24T00:45:21.821251Z",
     "shell.execute_reply": "2023-02-24T00:45:21.820323Z",
     "shell.execute_reply.started": "2023-02-24T00:45:21.801709Z"
    }
   },
   "outputs": [],
   "source": [
    "negative_patients = train_data[train_data['cancer']==0].reset_index(drop=True)\n",
    "positive_patients  = train_data[train_data['cancer']==1].reset_index(drop=True)\n",
    "\n",
    "positive_weights = len(negative_patients)/len(train_data)\n",
    "negative_weights = len(positive_patients)/len(train_data)\n",
    "\n",
    "class CustomBCE(nn.Module):\n",
    "    def __init__(self, p_weights, n_weights ):\n",
    "        super(CustomBCE, self).__init__()\n",
    "        self.p_weights = p_weights \n",
    "        self.n_weights = n_weights\n",
    "        self.epsilon   =1e-7\n",
    "    \n",
    "    def forward(self,y_true,y_pred):\n",
    "        loss = 0.0\n",
    "        for y in y_pred:\n",
    "            y = torch.max(y)\n",
    "            loss += -torch.mean(self.p_weights*y_true*torch.log(y+self.epsilon) + self.n_weights*(1-y_true)*torch.log(1-y+self.epsilon)) \n",
    "        return torch.Tensor(loss)\n",
    "        "
   ]
  },
  {
   "cell_type": "code",
   "execution_count": 24,
   "metadata": {
    "execution": {
     "iopub.execute_input": "2023-02-24T00:45:21.824465Z",
     "iopub.status.busy": "2023-02-24T00:45:21.823752Z",
     "iopub.status.idle": "2023-02-24T00:45:24.131903Z",
     "shell.execute_reply": "2023-02-24T00:45:24.130898Z",
     "shell.execute_reply.started": "2023-02-24T00:45:21.824429Z"
    }
   },
   "outputs": [
    {
     "name": "stderr",
     "output_type": "stream",
     "text": [
      "/opt/conda/lib/python3.7/site-packages/torchvision/models/_utils.py:209: UserWarning: The parameter 'pretrained' is deprecated since 0.13 and will be removed in 0.15, please use 'weights' instead.\n",
      "  f\"The parameter '{pretrained_param}' is deprecated since 0.13 and will be removed in 0.15, \"\n",
      "/opt/conda/lib/python3.7/site-packages/torchvision/models/_utils.py:223: UserWarning: Arguments other than a weight enum or `None` for 'weights' are deprecated since 0.13 and will be removed in 0.15. The current behavior is equivalent to passing `weights=VGG19_Weights.IMAGENET1K_V1`. You can also use `weights=VGG19_Weights.DEFAULT` to get the most up-to-date weights.\n",
      "  warnings.warn(msg)\n"
     ]
    }
   ],
   "source": [
    "vgg = torchvision.models.vgg19(pretrained=True).to(device)\n",
    "\n",
    "class Net(nn.Module):\n",
    "    def __init__(self, vgg):\n",
    "        super(Net, self).__init__()\n",
    "        self.model_input = nn.Conv2d(1, 64, kernel_size=3, stride=1, padding=1)\n",
    "        self.model_features = list(vgg.features.children())[1:]\n",
    "        self.model_output = list(vgg.classifier.children())[1:-1]\n",
    "        self.fc1 = nn.Linear(8192, 4096)\n",
    "        self.fc2 = nn.Linear(4096, 2)\n",
    "        \n",
    "    def forward(self, x):\n",
    "        x = self.model_input(x)\n",
    "        for feature_layer in self.model_features:\n",
    "            x = feature_layer(x)\n",
    "        x = torch.flatten(x,1)\n",
    "        x = self.fc1(x)\n",
    "        for classifier_layer in self.model_output:\n",
    "            x = classifier_layer(x)\n",
    "        x = F.softmax(self.fc2(x))\n",
    "        return x\n",
    "    \n",
    "model = Net(vgg)\n",
    "model = model.to(device)\n",
    "\n",
    "optimizer = torch.optim.Adam(model.parameters())\n",
    "criterion = CustomBCE(positive_weights, negative_weights)"
   ]
  },
  {
   "cell_type": "code",
   "execution_count": 26,
   "metadata": {
    "execution": {
     "iopub.execute_input": "2023-02-24T00:46:11.203690Z",
     "iopub.status.busy": "2023-02-24T00:46:11.203328Z",
     "iopub.status.idle": "2023-02-24T00:46:54.822820Z",
     "shell.execute_reply": "2023-02-24T00:46:54.821082Z",
     "shell.execute_reply.started": "2023-02-24T00:46:11.203658Z"
    }
   },
   "outputs": [
    {
     "name": "stderr",
     "output_type": "stream",
     "text": [
      "/opt/conda/lib/python3.7/site-packages/ipykernel_launcher.py:20: UserWarning: Implicit dimension choice for softmax has been deprecated. Change the call to include dim=X as an argument.\n"
     ]
    },
    {
     "name": "stdout",
     "output_type": "stream",
     "text": [
      "[15.750470161437988]\n",
      "[15.750470161437988, 15.750469207763672]\n",
      "[15.750470161437988, 15.750469207763672, 15.750469207763672]\n",
      "[15.750470161437988, 15.750469207763672, 15.750469207763672, 15.750469207763672]\n",
      "[15.750470161437988, 15.750469207763672, 15.750469207763672, 15.750469207763672, 15.750469207763672]\n",
      "[15.750470161437988, 15.750469207763672, 15.750469207763672, 15.750469207763672, 15.750469207763672, 15.750470161437988]\n",
      "[15.750470161437988, 15.750469207763672, 15.750469207763672, 15.750469207763672, 15.750469207763672, 15.750470161437988, 15.750469207763672]\n",
      "[15.750470161437988, 15.750469207763672, 15.750469207763672, 15.750469207763672, 15.750469207763672, 15.750470161437988, 15.750469207763672, 15.750469207763672]\n",
      "[15.750470161437988, 15.750469207763672, 15.750469207763672, 15.750469207763672, 15.750469207763672, 15.750470161437988, 15.750469207763672, 15.750469207763672, 15.750469207763672]\n",
      "[15.750470161437988, 15.750469207763672, 15.750469207763672, 15.750469207763672, 15.750469207763672, 15.750470161437988, 15.750469207763672, 15.750469207763672, 15.750469207763672, 15.750469207763672]\n",
      "[15.750470161437988, 15.750469207763672, 15.750469207763672, 15.750469207763672, 15.750469207763672, 15.750470161437988, 15.750469207763672, 15.750469207763672, 15.750469207763672, 15.750469207763672, 15.750470161437988]\n",
      "[15.750470161437988, 15.750469207763672, 15.750469207763672, 15.750469207763672, 15.750469207763672, 15.750470161437988, 15.750469207763672, 15.750469207763672, 15.750469207763672, 15.750469207763672, 15.750470161437988, 15.750471115112305]\n",
      "[15.750470161437988, 15.750469207763672, 15.750469207763672, 15.750469207763672, 15.750469207763672, 15.750470161437988, 15.750469207763672, 15.750469207763672, 15.750469207763672, 15.750469207763672, 15.750470161437988, 15.750471115112305, 15.750469207763672]\n",
      "[15.750470161437988, 15.750469207763672, 15.750469207763672, 15.750469207763672, 15.750469207763672, 15.750470161437988, 15.750469207763672, 15.750469207763672, 15.750469207763672, 15.750469207763672, 15.750470161437988, 15.750471115112305, 15.750469207763672, 15.750469207763672]\n",
      "[15.750470161437988, 15.750469207763672, 15.750469207763672, 15.750469207763672, 15.750469207763672, 15.750470161437988, 15.750469207763672, 15.750469207763672, 15.750469207763672, 15.750469207763672, 15.750470161437988, 15.750471115112305, 15.750469207763672, 15.750469207763672, 15.750469207763672]\n",
      "[15.750470161437988, 15.750469207763672, 15.750469207763672, 15.750469207763672, 15.750469207763672, 15.750470161437988, 15.750469207763672, 15.750469207763672, 15.750469207763672, 15.750469207763672, 15.750470161437988, 15.750471115112305, 15.750469207763672, 15.750469207763672, 15.750469207763672, 15.750469207763672]\n",
      "[15.750470161437988, 15.750469207763672, 15.750469207763672, 15.750469207763672, 15.750469207763672, 15.750470161437988, 15.750469207763672, 15.750469207763672, 15.750469207763672, 15.750469207763672, 15.750470161437988, 15.750471115112305, 15.750469207763672, 15.750469207763672, 15.750469207763672, 15.750469207763672, 15.750470161437988]\n",
      "[15.750470161437988, 15.750469207763672, 15.750469207763672, 15.750469207763672, 15.750469207763672, 15.750470161437988, 15.750469207763672, 15.750469207763672, 15.750469207763672, 15.750469207763672, 15.750470161437988, 15.750471115112305, 15.750469207763672, 15.750469207763672, 15.750469207763672, 15.750469207763672, 15.750470161437988, 15.750469207763672]\n",
      "[15.750470161437988, 15.750469207763672, 15.750469207763672, 15.750469207763672, 15.750469207763672, 15.750470161437988, 15.750469207763672, 15.750469207763672, 15.750469207763672, 15.750469207763672, 15.750470161437988, 15.750471115112305, 15.750469207763672, 15.750469207763672, 15.750469207763672, 15.750469207763672, 15.750470161437988, 15.750469207763672, 15.750470161437988]\n",
      "[15.750470161437988, 15.750469207763672, 15.750469207763672, 15.750469207763672, 15.750469207763672, 15.750470161437988, 15.750469207763672, 15.750469207763672, 15.750469207763672, 15.750469207763672, 15.750470161437988, 15.750471115112305, 15.750469207763672, 15.750469207763672, 15.750469207763672, 15.750469207763672, 15.750470161437988, 15.750469207763672, 15.750470161437988, 15.750469207763672]\n",
      "[15.750470161437988, 15.750469207763672, 15.750469207763672, 15.750469207763672, 15.750469207763672, 15.750470161437988, 15.750469207763672, 15.750469207763672, 15.750469207763672, 15.750469207763672, 15.750470161437988, 15.750471115112305, 15.750469207763672, 15.750469207763672, 15.750469207763672, 15.750469207763672, 15.750470161437988, 15.750469207763672, 15.750470161437988, 15.750469207763672, 15.750470161437988]\n",
      "[15.750470161437988, 15.750469207763672, 15.750469207763672, 15.750469207763672, 15.750469207763672, 15.750470161437988, 15.750469207763672, 15.750469207763672, 15.750469207763672, 15.750469207763672, 15.750470161437988, 15.750471115112305, 15.750469207763672, 15.750469207763672, 15.750469207763672, 15.750469207763672, 15.750470161437988, 15.750469207763672, 15.750470161437988, 15.750469207763672, 15.750470161437988, 15.750469207763672]\n",
      "[15.750470161437988, 15.750469207763672, 15.750469207763672, 15.750469207763672, 15.750469207763672, 15.750470161437988, 15.750469207763672, 15.750469207763672, 15.750469207763672, 15.750469207763672, 15.750470161437988, 15.750471115112305, 15.750469207763672, 15.750469207763672, 15.750469207763672, 15.750469207763672, 15.750470161437988, 15.750469207763672, 15.750470161437988, 15.750469207763672, 15.750470161437988, 15.750469207763672, 15.750470161437988]\n",
      "[15.750470161437988, 15.750469207763672, 15.750469207763672, 15.750469207763672, 15.750469207763672, 15.750470161437988, 15.750469207763672, 15.750469207763672, 15.750469207763672, 15.750469207763672, 15.750470161437988, 15.750471115112305, 15.750469207763672, 15.750469207763672, 15.750469207763672, 15.750469207763672, 15.750470161437988, 15.750469207763672, 15.750470161437988, 15.750469207763672, 15.750470161437988, 15.750469207763672, 15.750470161437988, 15.750469207763672]\n"
     ]
    },
    {
     "ename": "KeyboardInterrupt",
     "evalue": "",
     "output_type": "error",
     "traceback": [
      "\u001b[0;31m---------------------------------------------------------------------------\u001b[0m",
      "\u001b[0;31mKeyboardInterrupt\u001b[0m                         Traceback (most recent call last)",
      "\u001b[0;32m/tmp/ipykernel_27536/1630311963.py\u001b[0m in \u001b[0;36m<module>\u001b[0;34m\u001b[0m\n\u001b[1;32m     10\u001b[0m \u001b[0;34m\u001b[0m\u001b[0m\n\u001b[1;32m     11\u001b[0m     \u001b[0mmodel\u001b[0m\u001b[0;34m.\u001b[0m\u001b[0mtrain\u001b[0m\u001b[0;34m(\u001b[0m\u001b[0;34m)\u001b[0m\u001b[0;34m\u001b[0m\u001b[0;34m\u001b[0m\u001b[0m\n\u001b[0;32m---> 12\u001b[0;31m     \u001b[0;32mfor\u001b[0m \u001b[0mx\u001b[0m\u001b[0;34m,\u001b[0m \u001b[0my\u001b[0m \u001b[0;32min\u001b[0m \u001b[0mtrain_loader\u001b[0m\u001b[0;34m:\u001b[0m\u001b[0;34m\u001b[0m\u001b[0;34m\u001b[0m\u001b[0m\n\u001b[0m\u001b[1;32m     13\u001b[0m         \u001b[0moptimizer\u001b[0m\u001b[0;34m.\u001b[0m\u001b[0mzero_grad\u001b[0m\u001b[0;34m(\u001b[0m\u001b[0;34m)\u001b[0m\u001b[0;34m\u001b[0m\u001b[0;34m\u001b[0m\u001b[0m\n\u001b[1;32m     14\u001b[0m         \u001b[0mx\u001b[0m\u001b[0;34m,\u001b[0m \u001b[0my\u001b[0m \u001b[0;34m=\u001b[0m \u001b[0mx\u001b[0m\u001b[0;34m.\u001b[0m\u001b[0mto\u001b[0m\u001b[0;34m(\u001b[0m\u001b[0mdevice\u001b[0m\u001b[0;34m)\u001b[0m\u001b[0;34m,\u001b[0m \u001b[0my\u001b[0m\u001b[0;34m.\u001b[0m\u001b[0mto\u001b[0m\u001b[0;34m(\u001b[0m\u001b[0mdevice\u001b[0m\u001b[0;34m)\u001b[0m\u001b[0;34m\u001b[0m\u001b[0;34m\u001b[0m\u001b[0m\n",
      "\u001b[0;32m/opt/conda/lib/python3.7/site-packages/torch/utils/data/dataloader.py\u001b[0m in \u001b[0;36m__next__\u001b[0;34m(self)\u001b[0m\n\u001b[1;32m    650\u001b[0m                 \u001b[0;31m# TODO(https://github.com/pytorch/pytorch/issues/76750)\u001b[0m\u001b[0;34m\u001b[0m\u001b[0;34m\u001b[0m\u001b[0;34m\u001b[0m\u001b[0m\n\u001b[1;32m    651\u001b[0m                 \u001b[0mself\u001b[0m\u001b[0;34m.\u001b[0m\u001b[0m_reset\u001b[0m\u001b[0;34m(\u001b[0m\u001b[0;34m)\u001b[0m  \u001b[0;31m# type: ignore[call-arg]\u001b[0m\u001b[0;34m\u001b[0m\u001b[0;34m\u001b[0m\u001b[0m\n\u001b[0;32m--> 652\u001b[0;31m             \u001b[0mdata\u001b[0m \u001b[0;34m=\u001b[0m \u001b[0mself\u001b[0m\u001b[0;34m.\u001b[0m\u001b[0m_next_data\u001b[0m\u001b[0;34m(\u001b[0m\u001b[0;34m)\u001b[0m\u001b[0;34m\u001b[0m\u001b[0;34m\u001b[0m\u001b[0m\n\u001b[0m\u001b[1;32m    653\u001b[0m             \u001b[0mself\u001b[0m\u001b[0;34m.\u001b[0m\u001b[0m_num_yielded\u001b[0m \u001b[0;34m+=\u001b[0m \u001b[0;36m1\u001b[0m\u001b[0;34m\u001b[0m\u001b[0;34m\u001b[0m\u001b[0m\n\u001b[1;32m    654\u001b[0m             \u001b[0;32mif\u001b[0m \u001b[0mself\u001b[0m\u001b[0;34m.\u001b[0m\u001b[0m_dataset_kind\u001b[0m \u001b[0;34m==\u001b[0m \u001b[0m_DatasetKind\u001b[0m\u001b[0;34m.\u001b[0m\u001b[0mIterable\u001b[0m \u001b[0;32mand\u001b[0m\u001b[0;31m \u001b[0m\u001b[0;31m\\\u001b[0m\u001b[0;34m\u001b[0m\u001b[0;34m\u001b[0m\u001b[0m\n",
      "\u001b[0;32m/opt/conda/lib/python3.7/site-packages/torch/utils/data/dataloader.py\u001b[0m in \u001b[0;36m_next_data\u001b[0;34m(self)\u001b[0m\n\u001b[1;32m    690\u001b[0m     \u001b[0;32mdef\u001b[0m \u001b[0m_next_data\u001b[0m\u001b[0;34m(\u001b[0m\u001b[0mself\u001b[0m\u001b[0;34m)\u001b[0m\u001b[0;34m:\u001b[0m\u001b[0;34m\u001b[0m\u001b[0;34m\u001b[0m\u001b[0m\n\u001b[1;32m    691\u001b[0m         \u001b[0mindex\u001b[0m \u001b[0;34m=\u001b[0m \u001b[0mself\u001b[0m\u001b[0;34m.\u001b[0m\u001b[0m_next_index\u001b[0m\u001b[0;34m(\u001b[0m\u001b[0;34m)\u001b[0m  \u001b[0;31m# may raise StopIteration\u001b[0m\u001b[0;34m\u001b[0m\u001b[0;34m\u001b[0m\u001b[0m\n\u001b[0;32m--> 692\u001b[0;31m         \u001b[0mdata\u001b[0m \u001b[0;34m=\u001b[0m \u001b[0mself\u001b[0m\u001b[0;34m.\u001b[0m\u001b[0m_dataset_fetcher\u001b[0m\u001b[0;34m.\u001b[0m\u001b[0mfetch\u001b[0m\u001b[0;34m(\u001b[0m\u001b[0mindex\u001b[0m\u001b[0;34m)\u001b[0m  \u001b[0;31m# may raise StopIteration\u001b[0m\u001b[0;34m\u001b[0m\u001b[0;34m\u001b[0m\u001b[0m\n\u001b[0m\u001b[1;32m    693\u001b[0m         \u001b[0;32mif\u001b[0m \u001b[0mself\u001b[0m\u001b[0;34m.\u001b[0m\u001b[0m_pin_memory\u001b[0m\u001b[0;34m:\u001b[0m\u001b[0;34m\u001b[0m\u001b[0;34m\u001b[0m\u001b[0m\n\u001b[1;32m    694\u001b[0m             \u001b[0mdata\u001b[0m \u001b[0;34m=\u001b[0m \u001b[0m_utils\u001b[0m\u001b[0;34m.\u001b[0m\u001b[0mpin_memory\u001b[0m\u001b[0;34m.\u001b[0m\u001b[0mpin_memory\u001b[0m\u001b[0;34m(\u001b[0m\u001b[0mdata\u001b[0m\u001b[0;34m,\u001b[0m \u001b[0mself\u001b[0m\u001b[0;34m.\u001b[0m\u001b[0m_pin_memory_device\u001b[0m\u001b[0;34m)\u001b[0m\u001b[0;34m\u001b[0m\u001b[0;34m\u001b[0m\u001b[0m\n",
      "\u001b[0;32m/opt/conda/lib/python3.7/site-packages/torch/utils/data/_utils/fetch.py\u001b[0m in \u001b[0;36mfetch\u001b[0;34m(self, possibly_batched_index)\u001b[0m\n\u001b[1;32m     47\u001b[0m     \u001b[0;32mdef\u001b[0m \u001b[0mfetch\u001b[0m\u001b[0;34m(\u001b[0m\u001b[0mself\u001b[0m\u001b[0;34m,\u001b[0m \u001b[0mpossibly_batched_index\u001b[0m\u001b[0;34m)\u001b[0m\u001b[0;34m:\u001b[0m\u001b[0;34m\u001b[0m\u001b[0;34m\u001b[0m\u001b[0m\n\u001b[1;32m     48\u001b[0m         \u001b[0;32mif\u001b[0m \u001b[0mself\u001b[0m\u001b[0;34m.\u001b[0m\u001b[0mauto_collation\u001b[0m\u001b[0;34m:\u001b[0m\u001b[0;34m\u001b[0m\u001b[0;34m\u001b[0m\u001b[0m\n\u001b[0;32m---> 49\u001b[0;31m             \u001b[0mdata\u001b[0m \u001b[0;34m=\u001b[0m \u001b[0;34m[\u001b[0m\u001b[0mself\u001b[0m\u001b[0;34m.\u001b[0m\u001b[0mdataset\u001b[0m\u001b[0;34m[\u001b[0m\u001b[0midx\u001b[0m\u001b[0;34m]\u001b[0m \u001b[0;32mfor\u001b[0m \u001b[0midx\u001b[0m \u001b[0;32min\u001b[0m \u001b[0mpossibly_batched_index\u001b[0m\u001b[0;34m]\u001b[0m\u001b[0;34m\u001b[0m\u001b[0;34m\u001b[0m\u001b[0m\n\u001b[0m\u001b[1;32m     50\u001b[0m         \u001b[0;32melse\u001b[0m\u001b[0;34m:\u001b[0m\u001b[0;34m\u001b[0m\u001b[0;34m\u001b[0m\u001b[0m\n\u001b[1;32m     51\u001b[0m             \u001b[0mdata\u001b[0m \u001b[0;34m=\u001b[0m \u001b[0mself\u001b[0m\u001b[0;34m.\u001b[0m\u001b[0mdataset\u001b[0m\u001b[0;34m[\u001b[0m\u001b[0mpossibly_batched_index\u001b[0m\u001b[0;34m]\u001b[0m\u001b[0;34m\u001b[0m\u001b[0;34m\u001b[0m\u001b[0m\n",
      "\u001b[0;32m/opt/conda/lib/python3.7/site-packages/torch/utils/data/_utils/fetch.py\u001b[0m in \u001b[0;36m<listcomp>\u001b[0;34m(.0)\u001b[0m\n\u001b[1;32m     47\u001b[0m     \u001b[0;32mdef\u001b[0m \u001b[0mfetch\u001b[0m\u001b[0;34m(\u001b[0m\u001b[0mself\u001b[0m\u001b[0;34m,\u001b[0m \u001b[0mpossibly_batched_index\u001b[0m\u001b[0;34m)\u001b[0m\u001b[0;34m:\u001b[0m\u001b[0;34m\u001b[0m\u001b[0;34m\u001b[0m\u001b[0m\n\u001b[1;32m     48\u001b[0m         \u001b[0;32mif\u001b[0m \u001b[0mself\u001b[0m\u001b[0;34m.\u001b[0m\u001b[0mauto_collation\u001b[0m\u001b[0;34m:\u001b[0m\u001b[0;34m\u001b[0m\u001b[0;34m\u001b[0m\u001b[0m\n\u001b[0;32m---> 49\u001b[0;31m             \u001b[0mdata\u001b[0m \u001b[0;34m=\u001b[0m \u001b[0;34m[\u001b[0m\u001b[0mself\u001b[0m\u001b[0;34m.\u001b[0m\u001b[0mdataset\u001b[0m\u001b[0;34m[\u001b[0m\u001b[0midx\u001b[0m\u001b[0;34m]\u001b[0m \u001b[0;32mfor\u001b[0m \u001b[0midx\u001b[0m \u001b[0;32min\u001b[0m \u001b[0mpossibly_batched_index\u001b[0m\u001b[0;34m]\u001b[0m\u001b[0;34m\u001b[0m\u001b[0;34m\u001b[0m\u001b[0m\n\u001b[0m\u001b[1;32m     50\u001b[0m         \u001b[0;32melse\u001b[0m\u001b[0;34m:\u001b[0m\u001b[0;34m\u001b[0m\u001b[0;34m\u001b[0m\u001b[0m\n\u001b[1;32m     51\u001b[0m             \u001b[0mdata\u001b[0m \u001b[0;34m=\u001b[0m \u001b[0mself\u001b[0m\u001b[0;34m.\u001b[0m\u001b[0mdataset\u001b[0m\u001b[0;34m[\u001b[0m\u001b[0mpossibly_batched_index\u001b[0m\u001b[0;34m]\u001b[0m\u001b[0;34m\u001b[0m\u001b[0;34m\u001b[0m\u001b[0m\n",
      "\u001b[0;32m/tmp/ipykernel_27536/2614264985.py\u001b[0m in \u001b[0;36m__getitem__\u001b[0;34m(self, index)\u001b[0m\n\u001b[1;32m     20\u001b[0m         \u001b[0mID\u001b[0m \u001b[0;34m=\u001b[0m \u001b[0mself\u001b[0m\u001b[0;34m.\u001b[0m\u001b[0mlist_IDs\u001b[0m\u001b[0;34m[\u001b[0m\u001b[0mindex\u001b[0m\u001b[0;34m]\u001b[0m\u001b[0;34m\u001b[0m\u001b[0;34m\u001b[0m\u001b[0m\n\u001b[1;32m     21\u001b[0m         \u001b[0mx\u001b[0m \u001b[0;34m=\u001b[0m \u001b[0mpydicom\u001b[0m\u001b[0;34m.\u001b[0m\u001b[0mdcmread\u001b[0m\u001b[0;34m(\u001b[0m\u001b[0mself\u001b[0m\u001b[0;34m.\u001b[0m\u001b[0mdirec\u001b[0m \u001b[0;34m+\u001b[0m \u001b[0mID\u001b[0m \u001b[0;34m+\u001b[0m \u001b[0;34m\".dcm\"\u001b[0m\u001b[0;34m)\u001b[0m\u001b[0;34m\u001b[0m\u001b[0;34m\u001b[0m\u001b[0m\n\u001b[0;32m---> 22\u001b[0;31m         \u001b[0mx\u001b[0m \u001b[0;34m=\u001b[0m \u001b[0mx\u001b[0m\u001b[0;34m.\u001b[0m\u001b[0mpixel_array\u001b[0m\u001b[0;34m\u001b[0m\u001b[0;34m\u001b[0m\u001b[0m\n\u001b[0m\u001b[1;32m     23\u001b[0m         \u001b[0mx\u001b[0m \u001b[0;34m=\u001b[0m \u001b[0mx\u001b[0m\u001b[0;34m.\u001b[0m\u001b[0mastype\u001b[0m\u001b[0;34m(\u001b[0m\u001b[0mnp\u001b[0m\u001b[0;34m.\u001b[0m\u001b[0mfloat64\u001b[0m\u001b[0;34m)\u001b[0m\u001b[0;34m\u001b[0m\u001b[0;34m\u001b[0m\u001b[0m\n\u001b[1;32m     24\u001b[0m         \u001b[0mmean\u001b[0m \u001b[0;34m=\u001b[0m \u001b[0mnp\u001b[0m\u001b[0;34m.\u001b[0m\u001b[0mmean\u001b[0m\u001b[0;34m(\u001b[0m\u001b[0mx\u001b[0m\u001b[0;34m)\u001b[0m\u001b[0;34m\u001b[0m\u001b[0;34m\u001b[0m\u001b[0m\n",
      "\u001b[0;32m/opt/conda/lib/python3.7/site-packages/pydicom/dataset.py\u001b[0m in \u001b[0;36mpixel_array\u001b[0;34m(self)\u001b[0m\n\u001b[1;32m   1885\u001b[0m             \u001b[0;34m:\u001b[0m\u001b[0;32mclass\u001b[0m\u001b[0;34m:\u001b[0m\u001b[0;31m`\u001b[0m\u001b[0mnumpy\u001b[0m\u001b[0;34m.\u001b[0m\u001b[0mndarray\u001b[0m\u001b[0;31m`\u001b[0m\u001b[0;34m.\u001b[0m\u001b[0;34m\u001b[0m\u001b[0;34m\u001b[0m\u001b[0m\n\u001b[1;32m   1886\u001b[0m         \"\"\"\n\u001b[0;32m-> 1887\u001b[0;31m         \u001b[0mself\u001b[0m\u001b[0;34m.\u001b[0m\u001b[0mconvert_pixel_data\u001b[0m\u001b[0;34m(\u001b[0m\u001b[0;34m)\u001b[0m\u001b[0;34m\u001b[0m\u001b[0;34m\u001b[0m\u001b[0m\n\u001b[0m\u001b[1;32m   1888\u001b[0m         \u001b[0;32mreturn\u001b[0m \u001b[0mcast\u001b[0m\u001b[0;34m(\u001b[0m\u001b[0;34m\"numpy.ndarray\"\u001b[0m\u001b[0;34m,\u001b[0m \u001b[0mself\u001b[0m\u001b[0;34m.\u001b[0m\u001b[0m_pixel_array\u001b[0m\u001b[0;34m)\u001b[0m\u001b[0;34m\u001b[0m\u001b[0;34m\u001b[0m\u001b[0m\n\u001b[1;32m   1889\u001b[0m \u001b[0;34m\u001b[0m\u001b[0m\n",
      "\u001b[0;32m/opt/conda/lib/python3.7/site-packages/pydicom/dataset.py\u001b[0m in \u001b[0;36mconvert_pixel_data\u001b[0;34m(self, handler_name)\u001b[0m\n\u001b[1;32m   1442\u001b[0m             \u001b[0mself\u001b[0m\u001b[0;34m.\u001b[0m\u001b[0m_convert_pixel_data_using_handler\u001b[0m\u001b[0;34m(\u001b[0m\u001b[0mhandler_name\u001b[0m\u001b[0;34m)\u001b[0m\u001b[0;34m\u001b[0m\u001b[0;34m\u001b[0m\u001b[0m\n\u001b[1;32m   1443\u001b[0m         \u001b[0;32melse\u001b[0m\u001b[0;34m:\u001b[0m\u001b[0;34m\u001b[0m\u001b[0;34m\u001b[0m\u001b[0m\n\u001b[0;32m-> 1444\u001b[0;31m             \u001b[0mself\u001b[0m\u001b[0;34m.\u001b[0m\u001b[0m_convert_pixel_data_without_handler\u001b[0m\u001b[0;34m(\u001b[0m\u001b[0;34m)\u001b[0m\u001b[0;34m\u001b[0m\u001b[0;34m\u001b[0m\u001b[0m\n\u001b[0m\u001b[1;32m   1445\u001b[0m \u001b[0;34m\u001b[0m\u001b[0m\n\u001b[1;32m   1446\u001b[0m     \u001b[0;32mdef\u001b[0m \u001b[0m_convert_pixel_data_using_handler\u001b[0m\u001b[0;34m(\u001b[0m\u001b[0mself\u001b[0m\u001b[0;34m,\u001b[0m \u001b[0mname\u001b[0m\u001b[0;34m:\u001b[0m \u001b[0mstr\u001b[0m\u001b[0;34m)\u001b[0m \u001b[0;34m->\u001b[0m \u001b[0;32mNone\u001b[0m\u001b[0;34m:\u001b[0m\u001b[0;34m\u001b[0m\u001b[0;34m\u001b[0m\u001b[0m\n",
      "\u001b[0;32m/opt/conda/lib/python3.7/site-packages/pydicom/dataset.py\u001b[0m in \u001b[0;36m_convert_pixel_data_without_handler\u001b[0;34m(self)\u001b[0m\n\u001b[1;32m   1534\u001b[0m         \u001b[0;32mfor\u001b[0m \u001b[0mhandler\u001b[0m \u001b[0;32min\u001b[0m \u001b[0mavailable_handlers\u001b[0m\u001b[0;34m:\u001b[0m\u001b[0;34m\u001b[0m\u001b[0;34m\u001b[0m\u001b[0m\n\u001b[1;32m   1535\u001b[0m             \u001b[0;32mtry\u001b[0m\u001b[0;34m:\u001b[0m\u001b[0;34m\u001b[0m\u001b[0;34m\u001b[0m\u001b[0m\n\u001b[0;32m-> 1536\u001b[0;31m                 \u001b[0mself\u001b[0m\u001b[0;34m.\u001b[0m\u001b[0m_do_pixel_data_conversion\u001b[0m\u001b[0;34m(\u001b[0m\u001b[0mhandler\u001b[0m\u001b[0;34m)\u001b[0m\u001b[0;34m\u001b[0m\u001b[0;34m\u001b[0m\u001b[0m\n\u001b[0m\u001b[1;32m   1537\u001b[0m                 \u001b[0;32mreturn\u001b[0m\u001b[0;34m\u001b[0m\u001b[0;34m\u001b[0m\u001b[0m\n\u001b[1;32m   1538\u001b[0m             \u001b[0;32mexcept\u001b[0m \u001b[0mException\u001b[0m \u001b[0;32mas\u001b[0m \u001b[0mexc\u001b[0m\u001b[0;34m:\u001b[0m\u001b[0;34m\u001b[0m\u001b[0;34m\u001b[0m\u001b[0m\n",
      "\u001b[0;32m/opt/conda/lib/python3.7/site-packages/pydicom/dataset.py\u001b[0m in \u001b[0;36m_do_pixel_data_conversion\u001b[0;34m(self, handler)\u001b[0m\n\u001b[1;32m   1561\u001b[0m         \u001b[0;31m# Use the handler to get a 1D numpy array of the pixel data\u001b[0m\u001b[0;34m\u001b[0m\u001b[0;34m\u001b[0m\u001b[0;34m\u001b[0m\u001b[0m\n\u001b[1;32m   1562\u001b[0m         \u001b[0;31m# Will raise an exception if no pixel data element\u001b[0m\u001b[0;34m\u001b[0m\u001b[0;34m\u001b[0m\u001b[0;34m\u001b[0m\u001b[0m\n\u001b[0;32m-> 1563\u001b[0;31m         \u001b[0marr\u001b[0m \u001b[0;34m=\u001b[0m \u001b[0mhandler\u001b[0m\u001b[0;34m.\u001b[0m\u001b[0mget_pixeldata\u001b[0m\u001b[0;34m(\u001b[0m\u001b[0mself\u001b[0m\u001b[0;34m)\u001b[0m\u001b[0;34m\u001b[0m\u001b[0;34m\u001b[0m\u001b[0m\n\u001b[0m\u001b[1;32m   1564\u001b[0m         \u001b[0mself\u001b[0m\u001b[0;34m.\u001b[0m\u001b[0m_pixel_array\u001b[0m \u001b[0;34m=\u001b[0m \u001b[0mreshape_pixel_array\u001b[0m\u001b[0;34m(\u001b[0m\u001b[0mself\u001b[0m\u001b[0;34m,\u001b[0m \u001b[0marr\u001b[0m\u001b[0;34m)\u001b[0m\u001b[0;34m\u001b[0m\u001b[0;34m\u001b[0m\u001b[0m\n\u001b[1;32m   1565\u001b[0m \u001b[0;34m\u001b[0m\u001b[0m\n",
      "\u001b[0;32m/opt/conda/lib/python3.7/site-packages/pydicom/pixel_data_handlers/pylibjpeg_handler.py\u001b[0m in \u001b[0;36mget_pixeldata\u001b[0;34m(ds)\u001b[0m\n\u001b[1;32m    325\u001b[0m \u001b[0;34m\u001b[0m\u001b[0m\n\u001b[1;32m    326\u001b[0m     \u001b[0mgenerate_offsets\u001b[0m \u001b[0;34m=\u001b[0m \u001b[0mrange\u001b[0m\u001b[0;34m(\u001b[0m\u001b[0;36m0\u001b[0m\u001b[0;34m,\u001b[0m \u001b[0mexpected_len\u001b[0m\u001b[0;34m,\u001b[0m \u001b[0mframe_len\u001b[0m\u001b[0;34m)\u001b[0m\u001b[0;34m\u001b[0m\u001b[0;34m\u001b[0m\u001b[0m\n\u001b[0;32m--> 327\u001b[0;31m     \u001b[0;32mfor\u001b[0m \u001b[0mframe\u001b[0m\u001b[0;34m,\u001b[0m \u001b[0moffset\u001b[0m \u001b[0;32min\u001b[0m \u001b[0mzip\u001b[0m\u001b[0;34m(\u001b[0m\u001b[0mgenerate_frames\u001b[0m\u001b[0;34m(\u001b[0m\u001b[0mds\u001b[0m\u001b[0;34m,\u001b[0m \u001b[0;32mFalse\u001b[0m\u001b[0;34m)\u001b[0m\u001b[0;34m,\u001b[0m \u001b[0mgenerate_offsets\u001b[0m\u001b[0;34m)\u001b[0m\u001b[0;34m:\u001b[0m\u001b[0;34m\u001b[0m\u001b[0;34m\u001b[0m\u001b[0m\n\u001b[0m\u001b[1;32m    328\u001b[0m         \u001b[0marr\u001b[0m\u001b[0;34m[\u001b[0m\u001b[0moffset\u001b[0m\u001b[0;34m:\u001b[0m\u001b[0moffset\u001b[0m \u001b[0;34m+\u001b[0m \u001b[0mframe_len\u001b[0m\u001b[0;34m]\u001b[0m \u001b[0;34m=\u001b[0m \u001b[0mframe\u001b[0m\u001b[0;34m\u001b[0m\u001b[0;34m\u001b[0m\u001b[0m\n\u001b[1;32m    329\u001b[0m \u001b[0;34m\u001b[0m\u001b[0m\n",
      "\u001b[0;32m/opt/conda/lib/python3.7/site-packages/pydicom/pixel_data_handlers/pylibjpeg_handler.py\u001b[0m in \u001b[0;36mgenerate_frames\u001b[0;34m(ds, reshape)\u001b[0m\n\u001b[1;32m    261\u001b[0m \u001b[0;34m\u001b[0m\u001b[0m\n\u001b[1;32m    262\u001b[0m     \u001b[0;32mfor\u001b[0m \u001b[0mframe\u001b[0m \u001b[0;32min\u001b[0m \u001b[0mgenerate_pixel_data_frame\u001b[0m\u001b[0;34m(\u001b[0m\u001b[0mds\u001b[0m\u001b[0;34m.\u001b[0m\u001b[0mPixelData\u001b[0m\u001b[0;34m,\u001b[0m \u001b[0mnr_frames\u001b[0m\u001b[0;34m)\u001b[0m\u001b[0;34m:\u001b[0m\u001b[0;34m\u001b[0m\u001b[0;34m\u001b[0m\u001b[0m\n\u001b[0;32m--> 263\u001b[0;31m         \u001b[0marr\u001b[0m \u001b[0;34m=\u001b[0m \u001b[0mdecoder\u001b[0m\u001b[0;34m(\u001b[0m\u001b[0mframe\u001b[0m\u001b[0;34m,\u001b[0m \u001b[0mpixel_module\u001b[0m\u001b[0;34m)\u001b[0m\u001b[0;34m\u001b[0m\u001b[0;34m\u001b[0m\u001b[0m\n\u001b[0m\u001b[1;32m    264\u001b[0m \u001b[0;34m\u001b[0m\u001b[0m\n\u001b[1;32m    265\u001b[0m         if (\n",
      "\u001b[0;32m/opt/conda/lib/python3.7/site-packages/libjpeg/utils.py\u001b[0m in \u001b[0;36mdecode_pixel_data\u001b[0;34m(arr, ds, **kwargs)\u001b[0m\n\u001b[1;32m    178\u001b[0m         \u001b[0mtransform\u001b[0m \u001b[0;34m=\u001b[0m \u001b[0;36m0\u001b[0m\u001b[0;34m\u001b[0m\u001b[0;34m\u001b[0m\u001b[0m\n\u001b[1;32m    179\u001b[0m \u001b[0;34m\u001b[0m\u001b[0m\n\u001b[0;32m--> 180\u001b[0;31m     \u001b[0;32mreturn\u001b[0m \u001b[0mdecode\u001b[0m\u001b[0;34m(\u001b[0m\u001b[0marr\u001b[0m\u001b[0;34m,\u001b[0m \u001b[0mtransform\u001b[0m\u001b[0;34m,\u001b[0m \u001b[0mreshape\u001b[0m\u001b[0;34m=\u001b[0m\u001b[0;32mFalse\u001b[0m\u001b[0;34m)\u001b[0m\u001b[0;34m\u001b[0m\u001b[0;34m\u001b[0m\u001b[0m\n\u001b[0m\u001b[1;32m    181\u001b[0m \u001b[0;34m\u001b[0m\u001b[0m\n\u001b[1;32m    182\u001b[0m \u001b[0;34m\u001b[0m\u001b[0m\n",
      "\u001b[0;32m/opt/conda/lib/python3.7/site-packages/libjpeg/utils.py\u001b[0m in \u001b[0;36mdecode\u001b[0;34m(stream, colour_transform, reshape)\u001b[0m\n\u001b[1;32m     95\u001b[0m         \u001b[0marr\u001b[0m \u001b[0;34m=\u001b[0m \u001b[0mstream\u001b[0m\u001b[0;34m\u001b[0m\u001b[0;34m\u001b[0m\u001b[0m\n\u001b[1;32m     96\u001b[0m \u001b[0;34m\u001b[0m\u001b[0m\n\u001b[0;32m---> 97\u001b[0;31m     \u001b[0mstatus\u001b[0m\u001b[0;34m,\u001b[0m \u001b[0mout\u001b[0m\u001b[0;34m,\u001b[0m \u001b[0mparams\u001b[0m \u001b[0;34m=\u001b[0m \u001b[0m_libjpeg\u001b[0m\u001b[0;34m.\u001b[0m\u001b[0mdecode\u001b[0m\u001b[0;34m(\u001b[0m\u001b[0marr\u001b[0m\u001b[0;34m,\u001b[0m \u001b[0mcolour_transform\u001b[0m\u001b[0;34m)\u001b[0m\u001b[0;34m\u001b[0m\u001b[0;34m\u001b[0m\u001b[0m\n\u001b[0m\u001b[1;32m     98\u001b[0m     \u001b[0mstatus\u001b[0m \u001b[0;34m=\u001b[0m \u001b[0mstatus\u001b[0m\u001b[0;34m.\u001b[0m\u001b[0mdecode\u001b[0m\u001b[0;34m(\u001b[0m\u001b[0;34m\"utf-8\"\u001b[0m\u001b[0;34m)\u001b[0m\u001b[0;34m\u001b[0m\u001b[0;34m\u001b[0m\u001b[0m\n\u001b[1;32m     99\u001b[0m     \u001b[0mcode\u001b[0m\u001b[0;34m,\u001b[0m \u001b[0mmsg\u001b[0m \u001b[0;34m=\u001b[0m \u001b[0mstatus\u001b[0m\u001b[0;34m.\u001b[0m\u001b[0msplit\u001b[0m\u001b[0;34m(\u001b[0m\u001b[0;34m\"::::\"\u001b[0m\u001b[0;34m)\u001b[0m\u001b[0;34m\u001b[0m\u001b[0;34m\u001b[0m\u001b[0m\n",
      "\u001b[0;31mKeyboardInterrupt\u001b[0m: "
     ]
    }
   ],
   "source": [
    "losses = []\n",
    "val_losses = []\n",
    "\n",
    "for epoch in range(50):\n",
    "    # keep track of training and validation loss\n",
    "    train_loss = []\n",
    "    \n",
    "    \n",
    "    model.train()\n",
    "    for x, y in train_loader:\n",
    "        optimizer.zero_grad()\n",
    "        x, y = x.to(device), y.to(device)\n",
    "        y_hat = model(x)\n",
    "        loss = criterion(y_hat, y)\n",
    "        loss.backward()\n",
    "        optimizer.step()\n",
    "        train_loss.append(loss.item())\n",
    "        print(train_loss)\n",
    "        \n",
    "    losses.append(np.mean(train_loss))\n",
    "    print(f'Epoch: {epoch} Loss: {np.mean(train_loss)}')\n",
    "    \n",
    "    if epoch % 10 == 0:\n",
    "        model.eval()\n",
    "        val_loss = []\n",
    "        with torch.no_grad():\n",
    "            for x, y in val_loader:\n",
    "                x, y = x.to(device), y.to(device)\n",
    "                y_hat = model(x)\n",
    "                loss = criterion(y_hat, y)\n",
    "                val_loss.append(loss.item())\n",
    "\n",
    "            val_losses.append(np.mean(val_loss))\n",
    "            print(f'Validation Epoch: {epoch} Loss: {np.mean(val_loss)}')\n"
   ]
  }
 ],
 "metadata": {
  "kernelspec": {
   "display_name": "Python 3 (ipykernel)",
   "language": "python",
   "name": "python3"
  },
  "language_info": {
   "codemirror_mode": {
    "name": "ipython",
    "version": 3
   },
   "file_extension": ".py",
   "mimetype": "text/x-python",
   "name": "python",
   "nbconvert_exporter": "python",
   "pygments_lexer": "ipython3",
   "version": "3.9.13"
  }
 },
 "nbformat": 4,
 "nbformat_minor": 4
}
